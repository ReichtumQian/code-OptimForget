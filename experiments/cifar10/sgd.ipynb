{
 "cells": [
  {
   "cell_type": "markdown",
   "id": "22f06ee1",
   "metadata": {},
   "source": [
    "## Import Libraries"
   ]
  },
  {
   "cell_type": "code",
   "execution_count": 1,
   "id": "efa0b2e3",
   "metadata": {},
   "outputs": [
    {
     "name": "stderr",
     "output_type": "stream",
     "text": [
      "/home/songc/miniconda3/envs/optforget/lib/python3.10/site-packages/tqdm/auto.py:21: TqdmWarning: IProgress not found. Please update jupyter and ipywidgets. See https://ipywidgets.readthedocs.io/en/stable/user_install.html\n",
      "  from .autonotebook import tqdm as notebook_tqdm\n"
     ]
    }
   ],
   "source": [
    "import torch\n",
    "import pytorch_lightning as pl\n",
    "import pandas as pd\n",
    "import matplotlib.pyplot as plt\n",
    "import seaborn as sns\n",
    "from model import LitResNet, CIFAR10DataModule"
   ]
  },
  {
   "cell_type": "markdown",
   "id": "8f0df306",
   "metadata": {},
   "source": [
    "## Set up Environment"
   ]
  },
  {
   "cell_type": "code",
   "execution_count": 2,
   "id": "2f76b924",
   "metadata": {},
   "outputs": [
    {
     "name": "stderr",
     "output_type": "stream",
     "text": [
      "Seed set to 42\n"
     ]
    },
    {
     "name": "stdout",
     "output_type": "stream",
     "text": [
      "Setting up data modules...\n",
      "✅ Data modules are ready.\n"
     ]
    }
   ],
   "source": [
    "sns.set_style(\"whitegrid\")\n",
    "pl.seed_everything(42, workers=True)\n",
    "PRETRAINED_CKPT_PATH = 'checkpoints/pretrained-best.ckpt'\n",
    "DEVICE = \"cuda\" if torch.cuda.is_available() else \"cpu\"\n",
    "print(\"Setting up data modules...\")\n",
    "data_module = CIFAR10DataModule(batch_size=256)\n",
    "data_module.setup() \n",
    "val_loaders_A_and_B = data_module.val_dataloader()\n",
    "print(\"✅ Data modules are ready.\")\n",
    "\n",
    "class ForgettingTracker(pl.Callback):\n",
    "    def __init__(self):\n",
    "        self.history = []\n",
    "        self.epoch = 0\n",
    "\n",
    "    def on_validation_epoch_end(self, trainer, pl_module):\n",
    "        acc_A = trainer.callback_metrics.get('val_acc_A')\n",
    "        acc_B = trainer.callback_metrics.get('val_acc_B')\n",
    "        \n",
    "        if acc_A is not None and acc_B is not None:\n",
    "            self.history.append({\n",
    "                'epoch': self.epoch,\n",
    "                'Task A Acc': acc_A.item() * 100,\n",
    "                'Task B Acc': acc_B.item() * 100,\n",
    "            })\n",
    "        self.epoch = self.epoch + 1\n",
    "forgetting_tracker = ForgettingTracker()"
   ]
  },
  {
   "cell_type": "markdown",
   "id": "060ba2cb",
   "metadata": {},
   "source": [
    "## Train on Task A"
   ]
  },
  {
   "cell_type": "code",
   "execution_count": 3,
   "id": "427ae508",
   "metadata": {},
   "outputs": [
    {
     "name": "stderr",
     "output_type": "stream",
     "text": [
      "Trainer will use only 1 of 5 GPUs because it is running inside an interactive / notebook environment. You may try to set `Trainer(devices=5)` but please note that multi-GPU inside interactive / notebook environments is considered experimental and unstable. Your mileage may vary.\n",
      "GPU available: True (cuda), used: True\n",
      "TPU available: False, using: 0 TPU cores\n",
      "HPU available: False, using: 0 HPUs\n"
     ]
    },
    {
     "name": "stdout",
     "output_type": "stream",
     "text": [
      "\n",
      "--- Phase 1: Pre-training on Task A (classes 0-4) ---\n"
     ]
    },
    {
     "name": "stderr",
     "output_type": "stream",
     "text": [
      "You are using a CUDA device ('NVIDIA GeForce RTX 4090') that has Tensor Cores. To properly utilize them, you should set `torch.set_float32_matmul_precision('medium' | 'high')` which will trade-off precision for performance. For more details, read https://pytorch.org/docs/stable/generated/torch.set_float32_matmul_precision.html#torch.set_float32_matmul_precision\n",
      "LOCAL_RANK: 0 - CUDA_VISIBLE_DEVICES: [0,1,2,3,4]\n",
      "\n",
      "  | Name         | Type               | Params | Mode \n",
      "------------------------------------------------------------\n",
      "0 | model        | LeNet5             | 62.1 K | train\n",
      "1 | criterion    | CrossEntropyLoss   | 0      | train\n",
      "2 | accuracy_A   | MulticlassAccuracy | 0      | train\n",
      "3 | accuracy_B   | MulticlassAccuracy | 0      | train\n",
      "  | other params | n/a                | 62.1 K | n/a  \n",
      "------------------------------------------------------------\n",
      "124 K     Trainable params\n",
      "0         Non-trainable params\n",
      "124 K     Total params\n",
      "0.496     Total estimated model params size (MB)\n",
      "19        Modules in train mode\n",
      "0         Modules in eval mode\n"
     ]
    },
    {
     "name": "stdout",
     "output_type": "stream",
     "text": [
      "Epoch 0:   3%|▎         | 3/98 [00:00<00:09,  9.96it/s]                    "
     ]
    },
    {
     "name": "stderr",
     "output_type": "stream",
     "text": [
      "/home/songc/miniconda3/envs/optforget/lib/python3.10/site-packages/pytorch_lightning/core/module.py:520: You called `self.log('train_loss', ..., logger=True)` but have no logger configured. You can enable one by doing `Trainer(logger=ALogger(...))`\n"
     ]
    },
    {
     "name": "stdout",
     "output_type": "stream",
     "text": [
      "Epoch 4: 100%|██████████| 98/98 [00:03<00:00, 31.82it/s, val_loss_A=0.745, val_loss_B=11.50]"
     ]
    },
    {
     "name": "stderr",
     "output_type": "stream",
     "text": [
      "`Trainer.fit` stopped: `max_epochs=5` reached.\n"
     ]
    },
    {
     "name": "stdout",
     "output_type": "stream",
     "text": [
      "Epoch 4: 100%|██████████| 98/98 [00:03<00:00, 31.78it/s, val_loss_A=0.745, val_loss_B=11.50]\n",
      "\n",
      "✅ Pre-training on Task A finished.\n"
     ]
    }
   ],
   "source": [
    "print(\"\\n--- Phase 1: Pre-training on Task A (classes 0-4) ---\")\n",
    "model = LitResNet(learning_rate=1e-3, datamodule=data_module, optimizer_name='AdamW')\n",
    "trainer_pretrain = pl.Trainer(\n",
    "    max_epochs=5,\n",
    "    accelerator='auto',\n",
    "    callbacks=[forgetting_tracker],\n",
    "    deterministic=True,\n",
    "    enable_checkpointing=False,\n",
    "    logger=False,\n",
    "    enable_progress_bar=True\n",
    ")\n",
    "trainer_pretrain.fit(\n",
    "    model, \n",
    "    train_dataloaders=data_module.train_dataloader(task='A'),\n",
    "    val_dataloaders=val_loaders_A_and_B\n",
    ")\n",
    "print(\"\\n✅ Pre-training on Task A finished.\")"
   ]
  },
  {
   "cell_type": "markdown",
   "id": "c265780c",
   "metadata": {},
   "source": [
    "## Train on Task B"
   ]
  },
  {
   "cell_type": "code",
   "execution_count": 4,
   "id": "4d1762ef",
   "metadata": {},
   "outputs": [
    {
     "name": "stdout",
     "output_type": "stream",
     "text": [
      "\n",
      "\n",
      "--- Phase 2: Fine-tuning on Task B with SGD ---\n"
     ]
    },
    {
     "name": "stderr",
     "output_type": "stream",
     "text": [
      "Trainer will use only 1 of 5 GPUs because it is running inside an interactive / notebook environment. You may try to set `Trainer(devices=5)` but please note that multi-GPU inside interactive / notebook environments is considered experimental and unstable. Your mileage may vary.\n",
      "💡 Tip: For seamless cloud uploads and versioning, try installing [litmodels](https://pypi.org/project/litmodels/) to enable LitModelCheckpoint, which syncs automatically with the Lightning model registry.\n",
      "GPU available: True (cuda), used: True\n",
      "TPU available: False, using: 0 TPU cores\n",
      "HPU available: False, using: 0 HPUs\n",
      "/home/songc/miniconda3/envs/optforget/lib/python3.10/site-packages/pytorch_lightning/callbacks/model_checkpoint.py:751: Checkpoint directory /home/songc/yxqian/optim-forget/experiments/cifar10/checkpoints exists and is not empty.\n",
      "LOCAL_RANK: 0 - CUDA_VISIBLE_DEVICES: [0,1,2,3,4]\n",
      "\n",
      "  | Name         | Type               | Params | Mode \n",
      "------------------------------------------------------------\n",
      "0 | model        | LeNet5             | 62.1 K | train\n",
      "1 | criterion    | CrossEntropyLoss   | 0      | train\n",
      "2 | accuracy_A   | MulticlassAccuracy | 0      | train\n",
      "3 | accuracy_B   | MulticlassAccuracy | 0      | train\n",
      "  | other params | n/a                | 62.1 K | n/a  \n",
      "------------------------------------------------------------\n",
      "124 K     Trainable params\n",
      "0         Non-trainable params\n",
      "124 K     Total params\n",
      "0.496     Total estimated model params size (MB)\n",
      "19        Modules in train mode\n",
      "0         Modules in eval mode\n"
     ]
    },
    {
     "name": "stdout",
     "output_type": "stream",
     "text": [
      "Epoch 4: 100%|██████████| 98/98 [00:03<00:00, 31.36it/s, val_loss_A=8.340, val_loss_B=0.724]"
     ]
    },
    {
     "name": "stderr",
     "output_type": "stream",
     "text": [
      "`Trainer.fit` stopped: `max_epochs=5` reached.\n"
     ]
    },
    {
     "name": "stdout",
     "output_type": "stream",
     "text": [
      "Epoch 4: 100%|██████████| 98/98 [00:07<00:00, 13.50it/s, val_loss_A=8.340, val_loss_B=0.724]\n",
      "\n",
      "✅ Fine-tuning finished.\n"
     ]
    }
   ],
   "source": [
    "print(\"\\n\\n--- Phase 2: Fine-tuning on Task B with SGD ---\")\n",
    "model.hparams.learning_rate = 1e-2\n",
    "model.hparams.optimizer_name = 'SGD'\n",
    "forgetting_tracker.epoch = forgetting_tracker.epoch - 1\n",
    "trainer_finetune = pl.Trainer(\n",
    "    max_epochs=5,\n",
    "    accelerator='auto',\n",
    "    callbacks=[forgetting_tracker],\n",
    "    deterministic=True,\n",
    "    logger=False,\n",
    "    enable_progress_bar=True\n",
    ")\n",
    "\n",
    "trainer_finetune.fit(\n",
    "    model, \n",
    "    train_dataloaders=data_module.train_dataloader(task='B'), \n",
    "    val_dataloaders=val_loaders_A_and_B\n",
    ")\n",
    "print(\"\\n✅ Fine-tuning finished.\")"
   ]
  },
  {
   "cell_type": "markdown",
   "id": "a6e8dfa2",
   "metadata": {},
   "source": [
    "## Plot the Results"
   ]
  },
  {
   "cell_type": "code",
   "execution_count": 5,
   "id": "11964e5a",
   "metadata": {},
   "outputs": [
    {
     "name": "stdout",
     "output_type": "stream",
     "text": [
      "\n",
      "--- Phase 3: Visualizing the results ---\n"
     ]
    },
    {
     "data": {
      "image/png": "[encoded data removed]",
      "text/plain": [
       "<Figure size 1000x600 with 1 Axes>"
      ]
     },
     "metadata": {},
     "output_type": "display_data"
    },
    {
     "name": "stdout",
     "output_type": "stream",
     "text": [
      "\n",
      "📊 Visualization complete.\n",
      "\n",
      "Final Performance:\n",
      "   epoch  Task A Acc  Task B Acc\n",
      "0      1       60.00        0.00\n",
      "1      2       64.94        0.00\n",
      "2      3       66.38        0.00\n",
      "3      4       68.50        0.00\n",
      "4      5       71.04        0.00\n",
      "5      6        0.00       62.82\n",
      "6      7        0.00       67.04\n",
      "7      8        0.00       69.14\n",
      "8      9        0.00       67.70\n",
      "9     10        0.00       72.08\n"
     ]
    }
   ],
   "source": [
    "print(\"\\n--- Phase 3: Visualizing the results ---\")\n",
    "history_df = pd.DataFrame(forgetting_tracker.history)\n",
    "\n",
    "if not history_df.empty:\n",
    "    plt.figure(figsize=(10, 6))\n",
    "    sns.lineplot(data=history_df, x='epoch', y='Task A Acc', marker='o', label='Task A Accuracy')\n",
    "    sns.lineplot(data=history_df, x='epoch', y='Task B Acc', marker='o', label='Task B Accuracy')\n",
    "\n",
    "    plt.title('Catastrophic Forgetting during Fine-tuning on Task B')\n",
    "    plt.xlabel('Epoch')\n",
    "    plt.ylabel('Validation Accuracy (%)')\n",
    "    plt.xticks(history_df['epoch'].unique())\n",
    "    plt.legend()\n",
    "    plt.grid(True)\n",
    "    plt.ylim(0, 101)\n",
    "    plt.show()\n",
    "\n",
    "    print(\"\\n📊 Visualization complete.\")\n",
    "    print(\"\\nFinal Performance:\")\n",
    "    print(history_df.round(2))\n",
    "else:\n",
    "    print(\"No history recorded to visualize.\")"
   ]
  }
 ],
 "metadata": {
  "kernelspec": {
   "display_name": "optforget",
   "language": "python",
   "name": "python3"
  },
  "language_info": {
   "codemirror_mode": {
    "name": "ipython",
    "version": 3
   },
   "file_extension": ".py",
   "mimetype": "text/x-python",
   "name": "python",
   "nbconvert_exporter": "python",
   "pygments_lexer": "ipython3",
   "version": "3.10.18"
  }
 },
 "nbformat": 4,
 "nbformat_minor": 5
}
